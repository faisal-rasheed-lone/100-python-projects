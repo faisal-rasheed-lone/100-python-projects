{
  "nbformat": 4,
  "nbformat_minor": 0,
  "metadata": {
    "colab": {
      "provenance": [],
      "toc_visible": true,
      "authorship_tag": "ABX9TyNDebmqCHMxSSy+XIlwn/vZ",
      "include_colab_link": true
    },
    "kernelspec": {
      "name": "python3",
      "display_name": "Python 3"
    },
    "language_info": {
      "name": "python"
    }
  },
  "cells": [
    {
      "cell_type": "markdown",
      "metadata": {
        "id": "view-in-github",
        "colab_type": "text"
      },
      "source": [
        "<a href=\"https://colab.research.google.com/github/faisal-rasheed-lone/100-python-projects/blob/master/NumPy_Practice1.ipynb\" target=\"_parent\"><img src=\"https://colab.research.google.com/assets/colab-badge.svg\" alt=\"Open In Colab\"/></a>"
      ]
    },
    {
      "cell_type": "code",
      "execution_count": 2,
      "metadata": {
        "id": "ojM702y17C9l"
      },
      "outputs": [],
      "source": [
        "import numpy as np"
      ]
    },
    {
      "cell_type": "code",
      "source": [
        "arr = np.array([[2,3,4],[5,6,8],[1,0,3]])"
      ],
      "metadata": {
        "id": "F0iFJn9A7Q56"
      },
      "execution_count": 3,
      "outputs": []
    },
    {
      "cell_type": "code",
      "source": [
        "print(arr)"
      ],
      "metadata": {
        "colab": {
          "base_uri": "https://localhost:8080/"
        },
        "id": "t6Uzy7bG7mm2",
        "outputId": "56353e56-15c9-40dc-beaa-4c69d2124f96"
      },
      "execution_count": 4,
      "outputs": [
        {
          "output_type": "stream",
          "name": "stdout",
          "text": [
            "[[2 3 4]\n",
            " [5 6 8]\n",
            " [1 0 3]]\n"
          ]
        }
      ]
    },
    {
      "cell_type": "markdown",
      "source": [
        "#Creating array using other functions\n"
      ],
      "metadata": {
        "id": "8qNiITDm7omK"
      }
    },
    {
      "cell_type": "code",
      "source": [
        "arr1 = np.zeros((2,3))"
      ],
      "metadata": {
        "id": "0jb58dwC8QZ_"
      },
      "execution_count": 5,
      "outputs": []
    },
    {
      "cell_type": "code",
      "source": [
        "print(arr1)"
      ],
      "metadata": {
        "colab": {
          "base_uri": "https://localhost:8080/"
        },
        "id": "ZVsTpBct8O_3",
        "outputId": "dd883815-c7f2-4af7-d443-a7db346786ea"
      },
      "execution_count": 6,
      "outputs": [
        {
          "output_type": "stream",
          "name": "stdout",
          "text": [
            "[[0. 0. 0.]\n",
            " [0. 0. 0.]]\n"
          ]
        }
      ]
    },
    {
      "cell_type": "code",
      "source": [
        "arr2 = np.ones((2,3))"
      ],
      "metadata": {
        "id": "Hnqi_1y58sn8"
      },
      "execution_count": 7,
      "outputs": []
    },
    {
      "cell_type": "code",
      "source": [
        "print(arr2)"
      ],
      "metadata": {
        "colab": {
          "base_uri": "https://localhost:8080/"
        },
        "id": "JN_DLLRm83gh",
        "outputId": "8619f815-6150-456a-add2-38a5ba095cd1"
      },
      "execution_count": 8,
      "outputs": [
        {
          "output_type": "stream",
          "name": "stdout",
          "text": [
            "[[1. 1. 1.]\n",
            " [1. 1. 1.]]\n"
          ]
        }
      ]
    },
    {
      "cell_type": "code",
      "source": [
        "arr3 = np.empty((2,3), dtype = int)\n",
        "print(arr3)"
      ],
      "metadata": {
        "colab": {
          "base_uri": "https://localhost:8080/"
        },
        "id": "D23D1jnk87Z7",
        "outputId": "d4817ef2-715b-4228-f756-4d56a27d72b0"
      },
      "execution_count": 9,
      "outputs": [
        {
          "output_type": "stream",
          "name": "stdout",
          "text": [
            "[[4607182418800017408 4607182418800017408 4607182418800017408]\n",
            " [4607182418800017408 4607182418800017408 4607182418800017408]]\n"
          ]
        }
      ]
    },
    {
      "cell_type": "code",
      "source": [
        "print(arr3.shape)"
      ],
      "metadata": {
        "colab": {
          "base_uri": "https://localhost:8080/"
        },
        "id": "jYfr39Y39N88",
        "outputId": "25955b2e-e82a-4062-84a7-47f8f1386ab1"
      },
      "execution_count": 10,
      "outputs": [
        {
          "output_type": "stream",
          "name": "stdout",
          "text": [
            "(2, 3)\n"
          ]
        }
      ]
    },
    {
      "cell_type": "code",
      "source": [
        "print(arr3.size)"
      ],
      "metadata": {
        "colab": {
          "base_uri": "https://localhost:8080/"
        },
        "id": "MmhEk5aZ9a_y",
        "outputId": "4015b305-d723-4a3d-9aed-f62e46ca22f0"
      },
      "execution_count": 11,
      "outputs": [
        {
          "output_type": "stream",
          "name": "stdout",
          "text": [
            "6\n"
          ]
        }
      ]
    },
    {
      "cell_type": "code",
      "source": [
        "arr4 = np.arange(2,10,2)\n",
        "print(arr4)\n",
        "print(arr4)"
      ],
      "metadata": {
        "colab": {
          "base_uri": "https://localhost:8080/"
        },
        "id": "479LOvZG9lCA",
        "outputId": "12b53e96-c252-43fb-b142-f61654e1829f"
      },
      "execution_count": 12,
      "outputs": [
        {
          "output_type": "stream",
          "name": "stdout",
          "text": [
            "[2 4 6 8]\n",
            "[2 4 6 8]\n"
          ]
        }
      ]
    },
    {
      "cell_type": "code",
      "source": [
        "print(np.linspace(1,10,5))"
      ],
      "metadata": {
        "colab": {
          "base_uri": "https://localhost:8080/"
        },
        "id": "HhmAGepG-Kit",
        "outputId": "77d2c9d1-418a-474e-bac5-b8f97b6a498e"
      },
      "execution_count": 13,
      "outputs": [
        {
          "output_type": "stream",
          "name": "stdout",
          "text": [
            "[ 1.    3.25  5.5   7.75 10.  ]\n"
          ]
        }
      ]
    },
    {
      "cell_type": "code",
      "source": [
        "print(np.add(arr2, arr2))"
      ],
      "metadata": {
        "colab": {
          "base_uri": "https://localhost:8080/"
        },
        "id": "E9NZsA3P-aMN",
        "outputId": "6dde4923-3633-4df8-d8f4-5e214157438b"
      },
      "execution_count": 14,
      "outputs": [
        {
          "output_type": "stream",
          "name": "stdout",
          "text": [
            "[[2. 2. 2.]\n",
            " [2. 2. 2.]]\n"
          ]
        }
      ]
    },
    {
      "cell_type": "code",
      "source": [
        "print(arr1 + arr1)"
      ],
      "metadata": {
        "colab": {
          "base_uri": "https://localhost:8080/"
        },
        "id": "dETyOzw4-kUS",
        "outputId": "a5204b18-f309-4b27-ec52-c6706c888e30"
      },
      "execution_count": 15,
      "outputs": [
        {
          "output_type": "stream",
          "name": "stdout",
          "text": [
            "[[0. 0. 0.]\n",
            " [0. 0. 0.]]\n"
          ]
        }
      ]
    },
    {
      "cell_type": "code",
      "source": [],
      "metadata": {
        "id": "zzs-DztX-n9Z"
      },
      "execution_count": 15,
      "outputs": []
    },
    {
      "cell_type": "markdown",
      "source": [
        "#Indexing and Slicing"
      ],
      "metadata": {
        "id": "sSalDsPR-zg-"
      }
    },
    {
      "cell_type": "code",
      "source": [
        "arr1 = np.array([[1,2,3],[4,5,6],[7,8,9]])"
      ],
      "metadata": {
        "id": "uxK7RFBI-3TW"
      },
      "execution_count": 16,
      "outputs": []
    },
    {
      "cell_type": "code",
      "source": [
        "print(arr1[1:])"
      ],
      "metadata": {
        "colab": {
          "base_uri": "https://localhost:8080/"
        },
        "id": "kawtYqlW_SVN",
        "outputId": "ce1a9523-2584-4ddc-ff3e-b42c8f34dddc"
      },
      "execution_count": 17,
      "outputs": [
        {
          "output_type": "stream",
          "name": "stdout",
          "text": [
            "[[4 5 6]\n",
            " [7 8 9]]\n"
          ]
        }
      ]
    },
    {
      "cell_type": "code",
      "source": [
        "matrix = np.array([\n",
        "    [10, 20, 30, 40],\n",
        "    [50, 60, 70, 80],\n",
        "    [90, 100, 110, 120],\n",
        "    [130, 140, 150, 160]\n",
        "])"
      ],
      "metadata": {
        "id": "okOBUm40DZ2V"
      },
      "execution_count": 18,
      "outputs": []
    },
    {
      "cell_type": "code",
      "source": [
        "#What is the value at row 2, column 3?\n",
        "print(matrix[1, 2])"
      ],
      "metadata": {
        "colab": {
          "base_uri": "https://localhost:8080/"
        },
        "id": "NNXORAzgDdd1",
        "outputId": "3c3251bd-ba14-4687-9220-a8d8aa4af59e"
      },
      "execution_count": 19,
      "outputs": [
        {
          "output_type": "stream",
          "name": "stdout",
          "text": [
            "70\n"
          ]
        }
      ]
    },
    {
      "cell_type": "code",
      "source": [
        "#Extract the 3rd row as a 1D array.\n",
        "oneD = matrix[2, :]\n",
        "print(oneD)"
      ],
      "metadata": {
        "colab": {
          "base_uri": "https://localhost:8080/"
        },
        "id": "qJcP-8YCD8-a",
        "outputId": "ee293f78-dcb7-4af7-a07e-289b1dcf57dc"
      },
      "execution_count": 20,
      "outputs": [
        {
          "output_type": "stream",
          "name": "stdout",
          "text": [
            "[ 90 100 110 120]\n"
          ]
        }
      ]
    },
    {
      "cell_type": "code",
      "source": [
        "#Extract the 2nd column as a 1D array.\n",
        "print(matrix[:, 1])"
      ],
      "metadata": {
        "colab": {
          "base_uri": "https://localhost:8080/"
        },
        "id": "KbmZM_p1E-rM",
        "outputId": "1499049d-4f3b-4558-c1bd-cc2b891fa498"
      },
      "execution_count": 21,
      "outputs": [
        {
          "output_type": "stream",
          "name": "stdout",
          "text": [
            "[ 20  60 100 140]\n"
          ]
        }
      ]
    },
    {
      "cell_type": "code",
      "source": [
        "#Extract a 2x2 subarray from the bottom-right corner of the matrix.\n",
        "print(matrix[2:, 2:])"
      ],
      "metadata": {
        "colab": {
          "base_uri": "https://localhost:8080/"
        },
        "id": "0VrLCM7AFiLQ",
        "outputId": "b5339ca5-87e6-4baf-8ad0-e40565090cdf"
      },
      "execution_count": 22,
      "outputs": [
        {
          "output_type": "stream",
          "name": "stdout",
          "text": [
            "[[110 120]\n",
            " [150 160]]\n"
          ]
        }
      ]
    },
    {
      "cell_type": "code",
      "source": [
        "# Extract every alternate element from the 2nd row.\n",
        "print(matrix[1, 0:4:2])"
      ],
      "metadata": {
        "colab": {
          "base_uri": "https://localhost:8080/"
        },
        "id": "ujeupGH5GJyq",
        "outputId": "13f987cd-36ec-4d34-9eb6-d285af2459aa"
      },
      "execution_count": 23,
      "outputs": [
        {
          "output_type": "stream",
          "name": "stdout",
          "text": [
            "[50 70]\n"
          ]
        }
      ]
    },
    {
      "cell_type": "code",
      "source": [
        "#Reverse the order of rows in the matrix.\n",
        "print(matrix[::-1, :])"
      ],
      "metadata": {
        "colab": {
          "base_uri": "https://localhost:8080/"
        },
        "id": "eTkRvZFYHTPa",
        "outputId": "03f2d4fb-9ff9-4082-8e1b-4ad1ca24e580"
      },
      "execution_count": 24,
      "outputs": [
        {
          "output_type": "stream",
          "name": "stdout",
          "text": [
            "[[130 140 150 160]\n",
            " [ 90 100 110 120]\n",
            " [ 50  60  70  80]\n",
            " [ 10  20  30  40]]\n"
          ]
        }
      ]
    },
    {
      "cell_type": "code",
      "source": [
        "# Reverse the order of columns in the matrix.\n",
        "print(matrix[:, ::-1])"
      ],
      "metadata": {
        "colab": {
          "base_uri": "https://localhost:8080/"
        },
        "id": "uWwo-GVGHcmC",
        "outputId": "1c58d6b0-8a19-4594-af94-786914f85acd"
      },
      "execution_count": 25,
      "outputs": [
        {
          "output_type": "stream",
          "name": "stdout",
          "text": [
            "[[ 40  30  20  10]\n",
            " [ 80  70  60  50]\n",
            " [120 110 100  90]\n",
            " [160 150 140 130]]\n"
          ]
        }
      ]
    },
    {
      "cell_type": "code",
      "source": [
        "#Extract elements from rows 1 and 3 and columns 2 and 4.\n",
        "print(matrix[[0,2], [1,3]])"
      ],
      "metadata": {
        "colab": {
          "base_uri": "https://localhost:8080/"
        },
        "id": "EfJ6S8buHdhU",
        "outputId": "7d8664af-9b5f-4c74-cc53-a43c9ea94848"
      },
      "execution_count": 26,
      "outputs": [
        {
          "output_type": "stream",
          "name": "stdout",
          "text": [
            "[ 20 120]\n"
          ]
        }
      ]
    },
    {
      "cell_type": "code",
      "source": [
        "#Extract all elements greater than 50.\n",
        "print(matrix[matrix > 50])"
      ],
      "metadata": {
        "colab": {
          "base_uri": "https://localhost:8080/"
        },
        "id": "G7xRv93xJmoX",
        "outputId": "6b7f926d-1fc7-4b04-c1cd-0d71e4c4bfd8"
      },
      "execution_count": 27,
      "outputs": [
        {
          "output_type": "stream",
          "name": "stdout",
          "text": [
            "[ 60  70  80  90 100 110 120 130 140 150 160]\n"
          ]
        }
      ]
    },
    {
      "cell_type": "code",
      "source": [
        "#Extract the values at positions (0, 1), (2, 3), and (3, 0).\n",
        "print(matrix[[0,2,3],[1,3,0]])"
      ],
      "metadata": {
        "colab": {
          "base_uri": "https://localhost:8080/"
        },
        "id": "0NgoZ3lWJnoU",
        "outputId": "018c204c-a117-4997-de74-25194f9e2b2e"
      },
      "execution_count": 28,
      "outputs": [
        {
          "output_type": "stream",
          "name": "stdout",
          "text": [
            "[ 20 120 130]\n"
          ]
        }
      ]
    },
    {
      "cell_type": "code",
      "source": [
        "matrix = np.array([\n",
        "    [5, 10, 15, 20],\n",
        "    [25, 30, 35, 40],\n",
        "    [45, 50, 55, 60],\n",
        "    [65, 70, 75, 80]\n",
        "])"
      ],
      "metadata": {
        "id": "64x4M8zzNEG-"
      },
      "execution_count": 29,
      "outputs": []
    },
    {
      "cell_type": "markdown",
      "source": [
        "What is the value at row 3, column 4?"
      ],
      "metadata": {
        "id": "rSuETtEWNGfe"
      }
    },
    {
      "cell_type": "code",
      "source": [
        "print(matrix[2, 3])"
      ],
      "metadata": {
        "colab": {
          "base_uri": "https://localhost:8080/"
        },
        "id": "8RG1pZdnNIw1",
        "outputId": "c9e39d03-bd31-4713-d4aa-c0023bdb6607"
      },
      "execution_count": 30,
      "outputs": [
        {
          "output_type": "stream",
          "name": "stdout",
          "text": [
            "60\n"
          ]
        }
      ]
    },
    {
      "cell_type": "markdown",
      "source": [
        "Extract the first two rows as a subarray."
      ],
      "metadata": {
        "id": "ehU9BwT3Ng5e"
      }
    },
    {
      "cell_type": "code",
      "source": [
        "print(matrix[:2, :])"
      ],
      "metadata": {
        "colab": {
          "base_uri": "https://localhost:8080/"
        },
        "id": "YAFmgSV3NiUX",
        "outputId": "c62d228d-a51d-408e-caad-f7c41e4c2099"
      },
      "execution_count": 31,
      "outputs": [
        {
          "output_type": "stream",
          "name": "stdout",
          "text": [
            "[[ 5 10 15 20]\n",
            " [25 30 35 40]]\n"
          ]
        }
      ]
    },
    {
      "cell_type": "markdown",
      "source": [
        "Extract the last two columns as a subarray."
      ],
      "metadata": {
        "id": "riDzyn8mNw_-"
      }
    },
    {
      "cell_type": "code",
      "source": [
        "print(matrix[:, 2:])"
      ],
      "metadata": {
        "colab": {
          "base_uri": "https://localhost:8080/"
        },
        "id": "Jc9P2DYHNx5N",
        "outputId": "bdec6643-c995-4873-f172-4d8bcb8104f5"
      },
      "execution_count": 32,
      "outputs": [
        {
          "output_type": "stream",
          "name": "stdout",
          "text": [
            "[[15 20]\n",
            " [35 40]\n",
            " [55 60]\n",
            " [75 80]]\n"
          ]
        }
      ]
    },
    {
      "cell_type": "markdown",
      "source": [
        "Extract a 2x3 subarray consisting of rows 2 and 3 and columns 1 2,and 3\n"
      ],
      "metadata": {
        "id": "h2owA9WFN_gB"
      }
    },
    {
      "cell_type": "code",
      "source": [
        "print(matrix[1:3, 0:3])"
      ],
      "metadata": {
        "colab": {
          "base_uri": "https://localhost:8080/"
        },
        "id": "TZJ9cSUvOALN",
        "outputId": "51babc61-fcb5-4b61-ef5c-fc8d9f7277a9"
      },
      "execution_count": 33,
      "outputs": [
        {
          "output_type": "stream",
          "name": "stdout",
          "text": [
            "[[25 30 35]\n",
            " [45 50 55]]\n"
          ]
        }
      ]
    },
    {
      "cell_type": "markdown",
      "source": [
        "Extract elements from row 1, column 4 and row 4, column 2."
      ],
      "metadata": {
        "id": "hNm7FhVYPS4o"
      }
    },
    {
      "cell_type": "code",
      "source": [
        "print(matrix[[0,3],[3,1]])"
      ],
      "metadata": {
        "colab": {
          "base_uri": "https://localhost:8080/"
        },
        "id": "Ezp_Niy_PUq-",
        "outputId": "0aadb010-8f5b-4931-b6e0-b039bcbe054e"
      },
      "execution_count": 34,
      "outputs": [
        {
          "output_type": "stream",
          "name": "stdout",
          "text": [
            "[20 70]\n"
          ]
        }
      ]
    },
    {
      "cell_type": "markdown",
      "source": [
        "Find all elements that are divisible by 10."
      ],
      "metadata": {
        "id": "eAZjxiZtQIF3"
      }
    },
    {
      "cell_type": "code",
      "source": [
        "print(matrix[matrix % 10 == 0])"
      ],
      "metadata": {
        "colab": {
          "base_uri": "https://localhost:8080/"
        },
        "id": "mvWPMm8uQJCd",
        "outputId": "97dffdda-5866-47ee-daa3-1e439168d6df"
      },
      "execution_count": 35,
      "outputs": [
        {
          "output_type": "stream",
          "name": "stdout",
          "text": [
            "[10 20 30 40 50 60 70 80]\n"
          ]
        }
      ]
    },
    {
      "cell_type": "markdown",
      "source": [
        "Extract the 1st and 4th rows."
      ],
      "metadata": {
        "id": "Ucmi2Xl5QQIw"
      }
    },
    {
      "cell_type": "code",
      "source": [
        "print(matrix[[0,3], :])"
      ],
      "metadata": {
        "colab": {
          "base_uri": "https://localhost:8080/"
        },
        "id": "MgsH1rvDQROQ",
        "outputId": "4c427d4a-6dd6-44c5-fe44-771097af009c"
      },
      "execution_count": 36,
      "outputs": [
        {
          "output_type": "stream",
          "name": "stdout",
          "text": [
            "[[ 5 10 15 20]\n",
            " [65 70 75 80]]\n"
          ]
        }
      ]
    },
    {
      "cell_type": "markdown",
      "source": [
        " Extract the 2nd and 3rd columns."
      ],
      "metadata": {
        "id": "VvK_1PmFSR7d"
      }
    },
    {
      "cell_type": "code",
      "source": [
        "print(matrix[:, [1,2]])"
      ],
      "metadata": {
        "colab": {
          "base_uri": "https://localhost:8080/"
        },
        "id": "Un5bgHPsSS1l",
        "outputId": "1ed93764-3220-4b4d-ae2e-c5e666ddba1b"
      },
      "execution_count": 37,
      "outputs": [
        {
          "output_type": "stream",
          "name": "stdout",
          "text": [
            "[[10 15]\n",
            " [30 35]\n",
            " [50 55]\n",
            " [70 75]]\n"
          ]
        }
      ]
    },
    {
      "cell_type": "markdown",
      "source": [
        " Reverse the rows and columns in the matrix."
      ],
      "metadata": {
        "id": "QqyruocwShtd"
      }
    },
    {
      "cell_type": "code",
      "source": [
        "print(matrix[::-1 ,::-1])"
      ],
      "metadata": {
        "colab": {
          "base_uri": "https://localhost:8080/"
        },
        "id": "xxlZAALMSjN1",
        "outputId": "25620737-e829-42bd-a661-f7ed28f8a8fa"
      },
      "execution_count": 38,
      "outputs": [
        {
          "output_type": "stream",
          "name": "stdout",
          "text": [
            "[[80 75 70 65]\n",
            " [60 55 50 45]\n",
            " [40 35 30 25]\n",
            " [20 15 10  5]]\n"
          ]
        }
      ]
    },
    {
      "cell_type": "markdown",
      "source": [
        "Extract every alternate element in the last row."
      ],
      "metadata": {
        "id": "vf-eD3_SS2tt"
      }
    },
    {
      "cell_type": "code",
      "source": [
        "print(matrix[3, 0::2])"
      ],
      "metadata": {
        "colab": {
          "base_uri": "https://localhost:8080/"
        },
        "id": "QIVDqqVGS3uF",
        "outputId": "2e10ca3c-cc94-41a2-a8e4-ddc5eb834465"
      },
      "execution_count": 39,
      "outputs": [
        {
          "output_type": "stream",
          "name": "stdout",
          "text": [
            "[65 75]\n"
          ]
        }
      ]
    },
    {
      "cell_type": "markdown",
      "source": [
        "Reshape the array np.array([1, 2, 3, 4, 5, 6, 7, 8]) into a 2x4 matrix."
      ],
      "metadata": {
        "id": "_OlLoUGIZIFg"
      }
    },
    {
      "cell_type": "code",
      "source": [
        "arr = np.array([1,2,3,4,5,6,7,8])\n",
        "print(arr.shape)"
      ],
      "metadata": {
        "colab": {
          "base_uri": "https://localhost:8080/"
        },
        "id": "Chk-OUknZJYV",
        "outputId": "d09e4e6c-1af0-49c0-e17c-d0e96b2f212d"
      },
      "execution_count": 40,
      "outputs": [
        {
          "output_type": "stream",
          "name": "stdout",
          "text": [
            "(8,)\n"
          ]
        }
      ]
    },
    {
      "cell_type": "code",
      "source": [
        "reshaped = arr.reshape(2,4)\n",
        "print(reshaped)"
      ],
      "metadata": {
        "colab": {
          "base_uri": "https://localhost:8080/"
        },
        "id": "_FJZ9zTXZa7o",
        "outputId": "32d4e5b0-a4ad-4407-816f-c7501bb6c7d1"
      },
      "execution_count": 41,
      "outputs": [
        {
          "output_type": "stream",
          "name": "stdout",
          "text": [
            "[[1 2 3 4]\n",
            " [5 6 7 8]]\n"
          ]
        }
      ]
    },
    {
      "cell_type": "markdown",
      "source": [
        "Flatten the Array\n"
      ],
      "metadata": {
        "id": "rGAV_U4ho3rt"
      }
    },
    {
      "cell_type": "code",
      "source": [
        "#print(reshaped.flatten())"
      ],
      "metadata": {
        "id": "jsjsBWAAo8ok"
      },
      "execution_count": 42,
      "outputs": []
    },
    {
      "cell_type": "markdown",
      "source": [
        "Concatenation\n"
      ],
      "metadata": {
        "id": "bVzH99H3pIZt"
      }
    },
    {
      "cell_type": "code",
      "source": [
        "print(np.concatenate((matrix, reshaped), axis = 0))"
      ],
      "metadata": {
        "colab": {
          "base_uri": "https://localhost:8080/"
        },
        "id": "N8ziN9j0pK40",
        "outputId": "96dc9591-e751-4230-f4eb-30f6879bdc92"
      },
      "execution_count": 43,
      "outputs": [
        {
          "output_type": "stream",
          "name": "stdout",
          "text": [
            "[[ 5 10 15 20]\n",
            " [25 30 35 40]\n",
            " [45 50 55 60]\n",
            " [65 70 75 80]\n",
            " [ 1  2  3  4]\n",
            " [ 5  6  7  8]]\n"
          ]
        }
      ]
    },
    {
      "cell_type": "code",
      "source": [
        "print(matrix)\n",
        "matrix1 = matrix[::-1, ::-1]\n",
        "print(matrix1)"
      ],
      "metadata": {
        "colab": {
          "base_uri": "https://localhost:8080/"
        },
        "id": "aC1MFCBwpzh8",
        "outputId": "f51b6100-59e3-49c7-d075-c9847e474382"
      },
      "execution_count": 44,
      "outputs": [
        {
          "output_type": "stream",
          "name": "stdout",
          "text": [
            "[[ 5 10 15 20]\n",
            " [25 30 35 40]\n",
            " [45 50 55 60]\n",
            " [65 70 75 80]]\n",
            "[[80 75 70 65]\n",
            " [60 55 50 45]\n",
            " [40 35 30 25]\n",
            " [20 15 10  5]]\n"
          ]
        }
      ]
    },
    {
      "cell_type": "markdown",
      "source": [
        "Stacking Arrays\n"
      ],
      "metadata": {
        "id": "pKY2lxb-p6Kk"
      }
    },
    {
      "cell_type": "code",
      "source": [
        "print(np.hstack((matrix, matrix1)))"
      ],
      "metadata": {
        "colab": {
          "base_uri": "https://localhost:8080/"
        },
        "id": "s1uCApSZp8ic",
        "outputId": "5aa5f488-ea33-4a84-d7a2-50f33c81bc30"
      },
      "execution_count": 45,
      "outputs": [
        {
          "output_type": "stream",
          "name": "stdout",
          "text": [
            "[[ 5 10 15 20 80 75 70 65]\n",
            " [25 30 35 40 60 55 50 45]\n",
            " [45 50 55 60 40 35 30 25]\n",
            " [65 70 75 80 20 15 10  5]]\n"
          ]
        }
      ]
    },
    {
      "cell_type": "code",
      "source": [
        "print(np.vstack((matrix1, matrix)))"
      ],
      "metadata": {
        "colab": {
          "base_uri": "https://localhost:8080/"
        },
        "id": "MSiLFgoKrT-N",
        "outputId": "e4604621-2437-4701-85ac-34683418a8de"
      },
      "execution_count": 46,
      "outputs": [
        {
          "output_type": "stream",
          "name": "stdout",
          "text": [
            "[[80 75 70 65]\n",
            " [60 55 50 45]\n",
            " [40 35 30 25]\n",
            " [20 15 10  5]\n",
            " [ 5 10 15 20]\n",
            " [25 30 35 40]\n",
            " [45 50 55 60]\n",
            " [65 70 75 80]]\n"
          ]
        }
      ]
    },
    {
      "cell_type": "code",
      "source": [
        "print(np.dstack((matrix1, matrix)))"
      ],
      "metadata": {
        "colab": {
          "base_uri": "https://localhost:8080/"
        },
        "id": "47ql2O4GreA5",
        "outputId": "23c324b3-adc2-4cc6-b7e7-c1b5aaa717b3"
      },
      "execution_count": 47,
      "outputs": [
        {
          "output_type": "stream",
          "name": "stdout",
          "text": [
            "[[[80  5]\n",
            "  [75 10]\n",
            "  [70 15]\n",
            "  [65 20]]\n",
            "\n",
            " [[60 25]\n",
            "  [55 30]\n",
            "  [50 35]\n",
            "  [45 40]]\n",
            "\n",
            " [[40 45]\n",
            "  [35 50]\n",
            "  [30 55]\n",
            "  [25 60]]\n",
            "\n",
            " [[20 65]\n",
            "  [15 70]\n",
            "  [10 75]\n",
            "  [ 5 80]]]\n"
          ]
        }
      ]
    },
    {
      "cell_type": "markdown",
      "source": [
        "#Spltting Arrays"
      ],
      "metadata": {
        "id": "UMwCTERsrs9d"
      }
    },
    {
      "cell_type": "code",
      "source": [
        "split_arr = np.split(matrix, (2,4))\n",
        "print(split_arr)"
      ],
      "metadata": {
        "colab": {
          "base_uri": "https://localhost:8080/"
        },
        "id": "q1fSuUMurwAc",
        "outputId": "fe13fa12-0840-4e42-d6fc-aea5a12d5c69"
      },
      "execution_count": 48,
      "outputs": [
        {
          "output_type": "stream",
          "name": "stdout",
          "text": [
            "[array([[ 5, 10, 15, 20],\n",
            "       [25, 30, 35, 40]]), array([[45, 50, 55, 60],\n",
            "       [65, 70, 75, 80]]), array([], shape=(0, 4), dtype=int64)]\n"
          ]
        }
      ]
    },
    {
      "cell_type": "code",
      "source": [
        "arr1 = np.ones((3,3))\n",
        "print(arr1)"
      ],
      "metadata": {
        "colab": {
          "base_uri": "https://localhost:8080/"
        },
        "id": "Db3_XpHPxjNY",
        "outputId": "1e927f14-806c-45d4-9df1-2a129ebdb3b0"
      },
      "execution_count": 49,
      "outputs": [
        {
          "output_type": "stream",
          "name": "stdout",
          "text": [
            "[[1. 1. 1.]\n",
            " [1. 1. 1.]\n",
            " [1. 1. 1.]]\n"
          ]
        }
      ]
    },
    {
      "cell_type": "code",
      "source": [
        "print(np.vsplit(arr1, 3))"
      ],
      "metadata": {
        "colab": {
          "base_uri": "https://localhost:8080/"
        },
        "id": "YxQmP9xUyGFW",
        "outputId": "9582d7c3-bed1-442c-c84f-077d622d5a40"
      },
      "execution_count": 50,
      "outputs": [
        {
          "output_type": "stream",
          "name": "stdout",
          "text": [
            "[array([[1., 1., 1.]]), array([[1., 1., 1.]]), array([[1., 1., 1.]])]\n"
          ]
        }
      ]
    },
    {
      "cell_type": "code",
      "source": [
        "#Reverse both rows and columns of the array:\n",
        "arr = np.array([[1,2],[3,4],[5,6]])\n",
        "print(arr[::-1, ::-1])"
      ],
      "metadata": {
        "colab": {
          "base_uri": "https://localhost:8080/"
        },
        "id": "h0nUza7x1s1u",
        "outputId": "70bf23b2-abf5-4f91-cf9c-f9b7b572549e"
      },
      "execution_count": 51,
      "outputs": [
        {
          "output_type": "stream",
          "name": "stdout",
          "text": [
            "[[6 5]\n",
            " [4 3]\n",
            " [2 1]]\n"
          ]
        }
      ]
    },
    {
      "cell_type": "code",
      "source": [
        "test = np.array([1,2,3,4,5,6])\n",
        "print(np.reshape(test, (2,3)))"
      ],
      "metadata": {
        "colab": {
          "base_uri": "https://localhost:8080/"
        },
        "id": "MBzsfcRI2qI5",
        "outputId": "f17238f2-5c36-4f99-db47-97e9b2024fcb"
      },
      "execution_count": 52,
      "outputs": [
        {
          "output_type": "stream",
          "name": "stdout",
          "text": [
            "[[1 2 3]\n",
            " [4 5 6]]\n"
          ]
        }
      ]
    },
    {
      "cell_type": "code",
      "source": [
        "arr1 = np.array([[1, 2], [3, 4]])\n",
        "arr2 = np.array([[5, 6], [7, 8]])\n",
        "concatenated = np.concatenate((arr1, arr2), axis=1)\n",
        "print(concatenated)\n",
        "# Output:\n",
        "# [[1 2 5 6]\n",
        "#  [3 4 7 8]]"
      ],
      "metadata": {
        "colab": {
          "base_uri": "https://localhost:8080/"
        },
        "id": "XLRnGNDt3NJA",
        "outputId": "0247883a-cc72-4d15-d591-8b4b60636653"
      },
      "execution_count": 53,
      "outputs": [
        {
          "output_type": "stream",
          "name": "stdout",
          "text": [
            "[[1 2 5 6]\n",
            " [3 4 7 8]]\n"
          ]
        }
      ]
    },
    {
      "cell_type": "markdown",
      "source": [
        "**Transpose the matrix:**"
      ],
      "metadata": {
        "id": "gEV2jFbX72ms"
      }
    },
    {
      "cell_type": "code",
      "source": [
        "arr = np.array([[10, 20], [30, 40], [50, 60]])\n",
        "print(arr)\n",
        "print(arr.T)"
      ],
      "metadata": {
        "colab": {
          "base_uri": "https://localhost:8080/"
        },
        "id": "J5phpDG876Aq",
        "outputId": "1e577ae9-16c8-4f7f-87b5-7b7143931ad4"
      },
      "execution_count": 54,
      "outputs": [
        {
          "output_type": "stream",
          "name": "stdout",
          "text": [
            "[[10 20]\n",
            " [30 40]\n",
            " [50 60]]\n",
            "[[10 30 50]\n",
            " [20 40 60]]\n"
          ]
        }
      ]
    },
    {
      "cell_type": "code",
      "source": [],
      "metadata": {
        "id": "Wbt1D_jK8FJ5"
      },
      "execution_count": 54,
      "outputs": []
    },
    {
      "cell_type": "markdown",
      "source": [
        "**Tile the array**"
      ],
      "metadata": {
        "id": "cCWsXCvE86c1"
      }
    },
    {
      "cell_type": "code",
      "source": [
        "arr = np.array([1, 2, 3])\n",
        "print(np.tile(arr, 3))"
      ],
      "metadata": {
        "colab": {
          "base_uri": "https://localhost:8080/"
        },
        "id": "T3SmxvuR8pDH",
        "outputId": "a30dbd7a-16a3-41fe-c207-a0e2fb13933d"
      },
      "execution_count": 55,
      "outputs": [
        {
          "output_type": "stream",
          "name": "stdout",
          "text": [
            "[1 2 3 1 2 3 1 2 3]\n"
          ]
        }
      ]
    },
    {
      "cell_type": "markdown",
      "source": [
        "Repeat each element"
      ],
      "metadata": {
        "id": "HZ1cYspc8_QZ"
      }
    },
    {
      "cell_type": "code",
      "source": [
        "print(np.repeat(arr, 2))"
      ],
      "metadata": {
        "colab": {
          "base_uri": "https://localhost:8080/"
        },
        "id": "owle4og59CGZ",
        "outputId": "f59882a6-3a84-46ec-e2a7-2af4cdafeec0"
      },
      "execution_count": 56,
      "outputs": [
        {
          "output_type": "stream",
          "name": "stdout",
          "text": [
            "[1 1 2 2 3 3]\n"
          ]
        }
      ]
    },
    {
      "cell_type": "markdown",
      "source": [
        "Sorting Array Row Wise"
      ],
      "metadata": {
        "id": "xxVTRGrX9KXJ"
      }
    },
    {
      "cell_type": "code",
      "source": [
        "arr = np.array([10,3,5,6,8])\n",
        "print(np.sort(arr))"
      ],
      "metadata": {
        "colab": {
          "base_uri": "https://localhost:8080/"
        },
        "id": "1lqDELB29NL5",
        "outputId": "5bffdd9b-f649-4007-8f9f-c275b1beefd5"
      },
      "execution_count": 57,
      "outputs": [
        {
          "output_type": "stream",
          "name": "stdout",
          "text": [
            "[ 3  5  6  8 10]\n"
          ]
        }
      ]
    },
    {
      "cell_type": "code",
      "source": [
        "arr1 = np.array([[9, 1, 3], [7, 6, 5]])\n",
        "print(np.sort(arr1, axis = 0))"
      ],
      "metadata": {
        "colab": {
          "base_uri": "https://localhost:8080/"
        },
        "id": "pZfRSWRP9g1g",
        "outputId": "1e8fe465-7074-40ca-b8aa-139e17a71b92"
      },
      "execution_count": 58,
      "outputs": [
        {
          "output_type": "stream",
          "name": "stdout",
          "text": [
            "[[7 1 3]\n",
            " [9 6 5]]\n"
          ]
        }
      ]
    },
    {
      "cell_type": "code",
      "source": [
        "#Computing Inverse\n",
        "arr = np.array([[2,3],[5,6]])\n",
        "print(np.linalg.inv(arr))"
      ],
      "metadata": {
        "colab": {
          "base_uri": "https://localhost:8080/"
        },
        "id": "hrviBWx6z3aA",
        "outputId": "bc2f4142-c84b-49a2-c2b2-720854966185"
      },
      "execution_count": 63,
      "outputs": [
        {
          "output_type": "stream",
          "name": "stdout",
          "text": [
            "[[-2.          1.        ]\n",
            " [ 1.66666667 -0.66666667]]\n"
          ]
        }
      ]
    },
    {
      "cell_type": "markdown",
      "source": [
        "Mathematical Operations\n",
        "Compute the product of all elements in the array:"
      ],
      "metadata": {
        "id": "ETiguWP11KLb"
      }
    },
    {
      "cell_type": "code",
      "source": [
        "arr = np.array([1, 2, 3, 4])\n",
        "print(\"product = \",np.prod(arr))"
      ],
      "metadata": {
        "colab": {
          "base_uri": "https://localhost:8080/"
        },
        "id": "5P1Czu-i1O90",
        "outputId": "146d9e39-3d40-441a-865e-33a1bb7cfc58"
      },
      "execution_count": 64,
      "outputs": [
        {
          "output_type": "stream",
          "name": "stdout",
          "text": [
            "product =  24\n"
          ]
        }
      ]
    },
    {
      "cell_type": "code",
      "source": [
        "#Find the cosine of each element in the array:\n",
        "arr = np.array([0, np.pi/4, np.pi/2])\n",
        "print(\"Cosine of arr[2] = \", np.sin(arr[2]))"
      ],
      "metadata": {
        "colab": {
          "base_uri": "https://localhost:8080/"
        },
        "id": "c-y_VV8y1eBc",
        "outputId": "07cdb976-4a93-44c8-f3d9-7f1587337cc7"
      },
      "execution_count": 66,
      "outputs": [
        {
          "output_type": "stream",
          "name": "stdout",
          "text": [
            "Cosine of arr[2]  1.0\n"
          ]
        }
      ]
    },
    {
      "cell_type": "markdown",
      "source": [
        "Compute the dot product of these arrays:\n",
        "np.array([1, 2, 3]) and np.array([4, 5, 6])."
      ],
      "metadata": {
        "id": "bnLCNcOg13NV"
      }
    },
    {
      "cell_type": "code",
      "source": [
        "arr1 =  np.array([1, 2, 3])\n",
        "arr2 = np.array([4,5,6])\n",
        "print(\"Dot product = \", np.dot(arr1, arr2))"
      ],
      "metadata": {
        "colab": {
          "base_uri": "https://localhost:8080/"
        },
        "id": "7EReArnG15X-",
        "outputId": "f379373d-4cde-49dc-dbfd-a0af7838ebcb"
      },
      "execution_count": 67,
      "outputs": [
        {
          "output_type": "stream",
          "name": "stdout",
          "text": [
            "Dot product =  32\n"
          ]
        }
      ]
    },
    {
      "cell_type": "markdown",
      "source": [
        "Perform matrix multiplication between:"
      ],
      "metadata": {
        "id": "PfS0pbPa2Wgp"
      }
    },
    {
      "cell_type": "code",
      "source": [
        "mat1 = np.array([[1, 2], [3, 4]])\n",
        "mat2 = np.array([[5, 6], [7, 8]])\n",
        "print(\"Mat Mul  = \", np.matmul(mat1, mat2))"
      ],
      "metadata": {
        "colab": {
          "base_uri": "https://localhost:8080/"
        },
        "id": "EpiLwzGr2Xca",
        "outputId": "1e0d8be7-33b7-4e0f-c538-13f189ce70a1"
      },
      "execution_count": 68,
      "outputs": [
        {
          "output_type": "stream",
          "name": "stdout",
          "text": [
            "Mat Mul  =  [[19 22]\n",
            " [43 50]]\n"
          ]
        }
      ]
    },
    {
      "cell_type": "markdown",
      "source": [
        "Find the determinant of this matrix:"
      ],
      "metadata": {
        "id": "8Ni0OlAd4_vu"
      }
    },
    {
      "cell_type": "code",
      "source": [
        "arr = np.array([[2, 3], [1, 4]])\n",
        "print(\"determinant = \", np.linalg.det(arr))"
      ],
      "metadata": {
        "colab": {
          "base_uri": "https://localhost:8080/"
        },
        "id": "NWW1C1zT5CTk",
        "outputId": "071b59f7-917a-4875-9a32-df8ef643264a"
      },
      "execution_count": 69,
      "outputs": [
        {
          "output_type": "stream",
          "name": "stdout",
          "text": [
            "determinant =  5.000000000000001\n"
          ]
        }
      ]
    },
    {
      "cell_type": "markdown",
      "source": [
        "Find the standard deviation of this array:"
      ],
      "metadata": {
        "id": "uTUvWISJ5A8s"
      }
    },
    {
      "cell_type": "code",
      "source": [
        "arr = np.array([1, 2, 3, 4, 5])\n",
        "print(\"Standard deviation = \", np.std(arr))"
      ],
      "metadata": {
        "colab": {
          "base_uri": "https://localhost:8080/"
        },
        "id": "UzWJ_SWR5g4r",
        "outputId": "ff515ed1-52e4-4ee2-d4fa-fd8440126277"
      },
      "execution_count": 70,
      "outputs": [
        {
          "output_type": "stream",
          "name": "stdout",
          "text": [
            "Standard deviation =  1.4142135623730951\n"
          ]
        }
      ]
    },
    {
      "cell_type": "markdown",
      "source": [
        "Compute the 90th percentile for this array:"
      ],
      "metadata": {
        "id": "UdpSHwbE54Ys"
      }
    },
    {
      "cell_type": "code",
      "source": [
        "arr = np.array([10, 20, 30, 40, 50])\n",
        "print('90th percentile = ', np.percentile(arr, 90))"
      ],
      "metadata": {
        "colab": {
          "base_uri": "https://localhost:8080/"
        },
        "id": "1tTeJAvb55Ru",
        "outputId": "4cceb3b5-a3eb-4c28-fe20-6c957bc73b1b"
      },
      "execution_count": 71,
      "outputs": [
        {
          "output_type": "stream",
          "name": "stdout",
          "text": [
            "90th percentile =  46.0\n"
          ]
        }
      ]
    },
    {
      "cell_type": "markdown",
      "source": [
        "Generate a 4x4 matrix of random numbers from a uniform distribution."
      ],
      "metadata": {
        "id": "siRhL50MA9cE"
      }
    },
    {
      "cell_type": "code",
      "source": [
        "arr = np.random.uniform(0, 100, size= (3, 3))\n",
        "print(arr)"
      ],
      "metadata": {
        "colab": {
          "base_uri": "https://localhost:8080/"
        },
        "id": "hc1Jjl5nA-1l",
        "outputId": "f2fe1dbf-fe45-44f8-9de8-228e862cbb2a"
      },
      "execution_count": 77,
      "outputs": [
        {
          "output_type": "stream",
          "name": "stdout",
          "text": [
            "[[74.59044429 50.23089538 90.4822694 ]\n",
            " [45.67523409 64.76704831 76.02239923]\n",
            " [58.81608437 32.27174098 56.7237713 ]]\n"
          ]
        }
      ]
    },
    {
      "cell_type": "markdown",
      "source": [
        "Create 10 random integers between 100 and 200."
      ],
      "metadata": {
        "id": "IUzz-JzvBKQT"
      }
    },
    {
      "cell_type": "code",
      "source": [
        "arr = np.random.randint(40, 80, size = (10))\n",
        "print(arr)"
      ],
      "metadata": {
        "colab": {
          "base_uri": "https://localhost:8080/"
        },
        "id": "uc94YJxkBfhI",
        "outputId": "bf0bb6e0-985d-4cef-bbdf-ba12ca84828f"
      },
      "execution_count": 80,
      "outputs": [
        {
          "output_type": "stream",
          "name": "stdout",
          "text": [
            "[72 72 61 46 78 48 71 54 49 63]\n"
          ]
        }
      ]
    },
    {
      "cell_type": "markdown",
      "source": [
        "Sample 6 numbers from a normal distribution with mean 5 and std 1."
      ],
      "metadata": {
        "id": "NxxheMt1CTol"
      }
    },
    {
      "cell_type": "code",
      "source": [
        "print(np.random.normal(5, 1, size = (6)))"
      ],
      "metadata": {
        "colab": {
          "base_uri": "https://localhost:8080/"
        },
        "id": "09iNOeDbCUsT",
        "outputId": "5517e714-ab82-48ba-e7a2-9477c9363697"
      },
      "execution_count": 82,
      "outputs": [
        {
          "output_type": "stream",
          "name": "stdout",
          "text": [
            "[4.3806762  6.02849599 3.05393069 5.58179978 4.44741418 4.05635417]\n"
          ]
        }
      ]
    },
    {
      "cell_type": "markdown",
      "source": [
        "Generate random numbers from a binomial distribution with 15 trials and probability 0.7."
      ],
      "metadata": {
        "id": "_U7v8-wVCxik"
      }
    },
    {
      "cell_type": "code",
      "source": [
        "print(np.random.binomial(15, 0.7, size = (2,3)))"
      ],
      "metadata": {
        "colab": {
          "base_uri": "https://localhost:8080/"
        },
        "id": "Y7wfrAC5Cyg0",
        "outputId": "8de49fb1-74ae-4fc6-98e6-ab72488e7ef1"
      },
      "execution_count": 83,
      "outputs": [
        {
          "output_type": "stream",
          "name": "stdout",
          "text": [
            "[[10 10 11]\n",
            " [12  9 10]]\n"
          ]
        }
      ]
    },
    {
      "cell_type": "markdown",
      "source": [
        "Add a scalar value of 5 to each element in a 3x3 matrix."
      ],
      "metadata": {
        "id": "ZOw_nOdMGjP3"
      }
    },
    {
      "cell_type": "code",
      "source": [
        "arr = np.random.randint(3,15 , size = (3,3))\n",
        "print(arr)\n",
        "print(arr + 5)"
      ],
      "metadata": {
        "colab": {
          "base_uri": "https://localhost:8080/"
        },
        "id": "jaJ3e3cbGkA7",
        "outputId": "9af0c7ee-4882-4c02-f70c-6845c6151974"
      },
      "execution_count": 86,
      "outputs": [
        {
          "output_type": "stream",
          "name": "stdout",
          "text": [
            "[[ 3  4  3]\n",
            " [10  3  7]\n",
            " [ 4  5  7]]\n",
            "[[ 8  9  8]\n",
            " [15  8 12]\n",
            " [ 9 10 12]]\n"
          ]
        }
      ]
    },
    {
      "cell_type": "markdown",
      "source": [
        "Multiply each row of a 2x3 matrix by a 1D array of shape (3,)"
      ],
      "metadata": {
        "id": "3fX5DtokHM4L"
      }
    },
    {
      "cell_type": "code",
      "source": [
        "arr = np.random.randint(10,20, size = (2,3))\n",
        "arr1 = np.random.randint(2,8, size = (2, 3))\n",
        "\n",
        "result = arr * arr1\n",
        "print(result)"
      ],
      "metadata": {
        "colab": {
          "base_uri": "https://localhost:8080/"
        },
        "id": "hLSnNYzAHN3S",
        "outputId": "9593fb43-bb9b-4eef-e8ed-6a96549b3e32"
      },
      "execution_count": 92,
      "outputs": [
        {
          "output_type": "stream",
          "name": "stdout",
          "text": [
            "[[78 60 48]\n",
            " [84 33 57]]\n"
          ]
        }
      ]
    },
    {
      "cell_type": "markdown",
      "source": [
        "Given arr = np.array([5, 10, 15, 20]), select elements at indices [1, 3]."
      ],
      "metadata": {
        "id": "AnUl3e-rSLc_"
      }
    },
    {
      "cell_type": "code",
      "source": [
        "arr = np.array([5, 10, 15, 20])\n",
        "print(arr[[0,2]])"
      ],
      "metadata": {
        "colab": {
          "base_uri": "https://localhost:8080/"
        },
        "id": "roHcotyZSNCs",
        "outputId": "8846de66-a51a-49ff-c447-a752115a39c7"
      },
      "execution_count": 96,
      "outputs": [
        {
          "output_type": "stream",
          "name": "stdout",
          "text": [
            "[ 5 15]\n"
          ]
        }
      ]
    },
    {
      "cell_type": "markdown",
      "source": [
        "Extract all even numbers from a 1D array."
      ],
      "metadata": {
        "id": "Civ91fkZTq-z"
      }
    },
    {
      "cell_type": "code",
      "source": [
        "arr = np.array([5, 10, 15, 20])\n",
        "print(\"All even Numbers = \", arr[arr % 2 == 0])"
      ],
      "metadata": {
        "colab": {
          "base_uri": "https://localhost:8080/"
        },
        "id": "VzxF2k4fTrst",
        "outputId": "022154ba-3f0e-4758-c961-bd5f868690a5"
      },
      "execution_count": 97,
      "outputs": [
        {
          "output_type": "stream",
          "name": "stdout",
          "text": [
            "All even Numbers =  [10 20]\n"
          ]
        }
      ]
    },
    {
      "cell_type": "markdown",
      "source": [
        "Modify all negative numbers in a 2D array to 0."
      ],
      "metadata": {
        "id": "N_QdqjDYT2o0"
      }
    },
    {
      "cell_type": "code",
      "source": [
        "arr = np.arange(-5, 4, dtype = int)\n",
        "arr = np.arange(-5, 4, dtype = int)\n",
        "arr = arr.reshape(3,3)\n",
        "print(arr)\n",
        "arr[arr < 0 ] = 0\n",
        "print(arr)"
      ],
      "metadata": {
        "colab": {
          "base_uri": "https://localhost:8080/"
        },
        "id": "SqxdEEYXT3yM",
        "outputId": "ff7ae9f3-6a8d-4db8-da48-6661cebecf6b"
      },
      "execution_count": 107,
      "outputs": [
        {
          "output_type": "stream",
          "name": "stdout",
          "text": [
            "[[-5 -4 -3]\n",
            " [-2 -1  0]\n",
            " [ 1  2  3]]\n",
            "[[0 0 0]\n",
            " [0 0 0]\n",
            " [1 2 3]]\n"
          ]
        }
      ]
    },
    {
      "cell_type": "markdown",
      "source": [
        "Sort the rows of a 3x3 matrix.\n",
        "Given arr = np.array([8, 3, 7, 4]), return the indices of elements in sorted order."
      ],
      "metadata": {
        "id": "mTP2okmcXfWS"
      }
    },
    {
      "cell_type": "code",
      "source": [
        "arr = np.random.randint(10, 20, size = (3,3))\n",
        "print(arr)\n",
        "print(np.sort(arr, axis = 1))"
      ],
      "metadata": {
        "colab": {
          "base_uri": "https://localhost:8080/"
        },
        "id": "376itSe2XgcD",
        "outputId": "6037ddbb-e4f6-4eb2-e545-f9b08ffb4d55"
      },
      "execution_count": 109,
      "outputs": [
        {
          "output_type": "stream",
          "name": "stdout",
          "text": [
            "[[17 19 11]\n",
            " [15 15 12]\n",
            " [16 12 10]]\n",
            "[[11 17 19]\n",
            " [12 15 15]\n",
            " [10 12 16]]\n"
          ]
        }
      ]
    },
    {
      "cell_type": "code",
      "source": [
        "arr = np.array([8, 3, 7, 4])\n",
        "print(np.sort(arr, axis = 0))\n",
        "print(np.argsort(arr))"
      ],
      "metadata": {
        "colab": {
          "base_uri": "https://localhost:8080/"
        },
        "id": "Dc_XNzhAX82D",
        "outputId": "36a8e1ab-2c58-4142-f285-677f75a38432"
      },
      "execution_count": 112,
      "outputs": [
        {
          "output_type": "stream",
          "name": "stdout",
          "text": [
            "[3 4 7 8]\n",
            "[1 3 2 0]\n"
          ]
        }
      ]
    },
    {
      "cell_type": "code",
      "source": [
        "print(np.where(arr > 5))"
      ],
      "metadata": {
        "colab": {
          "base_uri": "https://localhost:8080/"
        },
        "id": "eq7OWkiYbPBO",
        "outputId": "0fc2169b-1ff4-4535-8e62-94a6c9e9a3b9"
      },
      "execution_count": 114,
      "outputs": [
        {
          "output_type": "stream",
          "name": "stdout",
          "text": [
            "(array([0, 2]),)\n"
          ]
        }
      ]
    },
    {
      "cell_type": "markdown",
      "source": [
        "Find the indices where elements are greater than 10 in"
      ],
      "metadata": {
        "id": "HKYtqHDEgtPi"
      }
    },
    {
      "cell_type": "code",
      "source": [
        "arr = np.array([5, 15, 10, 20])\n",
        "print(np.where(arr > 10))"
      ],
      "metadata": {
        "colab": {
          "base_uri": "https://localhost:8080/"
        },
        "id": "_uUlAQpQguAs",
        "outputId": "78b8a00d-0662-48f7-8daa-4b309d9faa19"
      },
      "execution_count": 116,
      "outputs": [
        {
          "output_type": "stream",
          "name": "stdout",
          "text": [
            "(array([1, 3]),)\n"
          ]
        }
      ]
    },
    {
      "cell_type": "markdown",
      "source": [
        "Find unique elements and their counts in:"
      ],
      "metadata": {
        "id": "d40YVFIqh16E"
      }
    },
    {
      "cell_type": "code",
      "source": [
        "arr = np.array([5, 5, 10, 15, 10, 10])\n",
        "print(np.unique(arr, return_counts = True))\n",
        "print(np.bincount(arr))"
      ],
      "metadata": {
        "colab": {
          "base_uri": "https://localhost:8080/"
        },
        "id": "3B1p8j2Oh2ku",
        "outputId": "873edf0b-0bf3-4dca-99fd-9fa80836a109"
      },
      "execution_count": 118,
      "outputs": [
        {
          "output_type": "stream",
          "name": "stdout",
          "text": [
            "(array([ 5, 10, 15]), array([2, 3, 1]))\n",
            "[0 0 0 0 0 2 0 0 0 0 3 0 0 0 0 1]\n"
          ]
        }
      ]
    }
  ]
}